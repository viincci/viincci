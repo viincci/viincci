{
  "nbformat": 4,
  "nbformat_minor": 0,
  "metadata": {
    "colab": {
      "provenance": [],
      "authorship_tag": "ABX9TyNlOKam3JLzwnNXOqy7P/1G",
      "include_colab_link": true
    },
    "kernelspec": {
      "name": "python3",
      "display_name": "Python 3"
    },
    "language_info": {
      "name": "python"
    }
  },
  "cells": [
    {
      "cell_type": "markdown",
      "metadata": {
        "id": "view-in-github",
        "colab_type": "text"
      },
      "source": [
        "<a href=\"https://colab.research.google.com/github/viincci/viincci/blob/main/RasaTest.ipynb\" target=\"_parent\"><img src=\"https://colab.research.google.com/assets/colab-badge.svg\" alt=\"Open In Colab\"/></a>"
      ]
    },
    {
      "cell_type": "code",
      "source": [
        "pip install -U ipython"
      ],
      "metadata": {
        "id": "GZevZlV8ShXs"
      },
      "execution_count": null,
      "outputs": []
    },
    {
      "cell_type": "code",
      "execution_count": null,
      "metadata": {
        "id": "PwAwM2D4SQFU"
      },
      "outputs": [],
      "source": [
        "pip install pandas rasa\n"
      ]
    },
    {
      "cell_type": "code",
      "source": [],
      "metadata": {
        "id": "fP_qIfblUcBj"
      },
      "execution_count": null,
      "outputs": []
    },
    {
      "cell_type": "code",
      "source": [
        "import os\n",
        "import pandas as pd\n",
        "from rasa.shared.nlu.training_data.message import Message\n",
        "from rasa.shared.nlu.training_data import TrainingData\n",
        "# from rasa.nlu.training_data import Message\n",
        "# from rasa.nlu.training_data import TrainingData\n",
        "\n",
        "def add_parquet_data_to_rasa_data(parquet_file_path, rasa_data_folder):\n",
        "    # Read data from Parquet file\n",
        "    pqfl = pd.read_parquet(parquet_file_path).to_dict()\n",
        "\n",
        "    # Create a dictionary to store the intents and responses\n",
        "    ntnt_n_rspns = {}\n",
        "\n",
        "    # Group questions and corresponding responses\n",
        "    for k, v in pqfl['question'].items():\n",
        "        ntnt_n_rspns[v] = ntnt_n_rspns.get(v, []) + [str(k)]\n",
        "\n",
        "    for k, v in ntnt_n_rspns.items():\n",
        "        ntnt_n_rspns[k] = ''.join(pqfl['answer'][int(itm)] for itm in v)\n",
        "\n",
        "    # Create Rasa TrainingData object\n",
        "    training_data = TrainingData()\n",
        "\n",
        "    # Add intents and responses to Rasa TrainingData\n",
        "    for intent, response in ntnt_n_rspns.items():\n",
        "        message = Message.build(text=intent, intent=intent, response=response)\n",
        "        training_data.training_examples.append(message)\n",
        "\n",
        "    # Write TrainingData to files in Rasa data folder\n",
        "    nlu_data_file = os.path.join(rasa_data_folder, 'nlu.yml')\n",
        "    training_data.persist_nlu(nlu_data_file)\n",
        "\n",
        "    # Optionally, you can also create and save stories if you have corresponding story data\n",
        "    # stories_data_file = os.path.join(rasa_data_folder, 'stories.yml')\n",
        "    # training_data.persist_stories(stories_data_file)\n",
        "\n",
        "# Example usage\n",
        "parquet_file_path = \"train-1mb.parquet\"\n",
        "rasa_data_folder = \"../path/to/your/rasa/data/folder\"\n",
        "\n",
        "add_parquet_data_to_rasa_data(parquet_file_path, rasa_data_folder)\n"
      ],
      "metadata": {
        "id": "XKaK7esGTdTQ"
      },
      "execution_count": 4,
      "outputs": []
    }
  ]
}